{
 "cells": [
  {
   "cell_type": "markdown",
   "id": "4b6f2e39",
   "metadata": {},
   "source": [
    "### Reverse the tuple"
   ]
  },
  {
   "cell_type": "code",
   "execution_count": 1,
   "id": "9c1932e2",
   "metadata": {},
   "outputs": [
    {
     "name": "stdout",
     "output_type": "stream",
     "text": [
      "Enter a tuple(1,2,3)\n",
      "(1, 2, 3)\n",
      "(3, 2, 1)\n"
     ]
    }
   ],
   "source": [
    "a = eval(input('Enter a tuple'))\n",
    "print(a)\n",
    "print(a[::-1])"
   ]
  },
  {
   "cell_type": "markdown",
   "id": "601d5f01",
   "metadata": {},
   "source": [
    "### Access the value 20 from the following tuple"
   ]
  },
  {
   "cell_type": "code",
   "execution_count": 5,
   "id": "4e5671b7",
   "metadata": {},
   "outputs": [
    {
     "name": "stdout",
     "output_type": "stream",
     "text": [
      "20\n"
     ]
    }
   ],
   "source": [
    "a = ('Orange',[10,20,30],(5,15,25))\n",
    "print(a[1][1])"
   ]
  },
  {
   "cell_type": "markdown",
   "id": "77815f56",
   "metadata": {},
   "source": [
    "### Create a tuple with single item 50"
   ]
  },
  {
   "cell_type": "code",
   "execution_count": 13,
   "id": "ea31c938",
   "metadata": {},
   "outputs": [
    {
     "name": "stdout",
     "output_type": "stream",
     "text": [
      "(50,)\n"
     ]
    }
   ],
   "source": [
    "a = (50,)\n",
    "print(a)"
   ]
  },
  {
   "cell_type": "markdown",
   "id": "7af6ff06",
   "metadata": {},
   "source": [
    "### Unpack the following tuple into 4 variables"
   ]
  },
  {
   "cell_type": "code",
   "execution_count": 14,
   "id": "fa2146df",
   "metadata": {},
   "outputs": [
    {
     "name": "stdout",
     "output_type": "stream",
     "text": [
      "10 20 30 40\n"
     ]
    }
   ],
   "source": [
    "a = (10,20,30,40)\n",
    "a,b,c,d = a\n",
    "print(a,b,c,d)"
   ]
  },
  {
   "cell_type": "markdown",
   "id": "80a15839",
   "metadata": {},
   "source": [
    "### Swap the following two tuples"
   ]
  },
  {
   "cell_type": "code",
   "execution_count": 9,
   "id": "ae567941",
   "metadata": {},
   "outputs": [
    {
     "name": "stdout",
     "output_type": "stream",
     "text": [
      "(11, 22) (99, 88)\n",
      "(99, 88) (11, 22)\n"
     ]
    }
   ],
   "source": [
    "a = (11,22)\n",
    "b = (99,88)\n",
    "print(a,b)\n",
    "a,b=b,a\n",
    "print(a,b)"
   ]
  },
  {
   "cell_type": "markdown",
   "id": "948d1620",
   "metadata": {},
   "source": [
    "### Copy element 44 and 55 from the following tuple into a new tuple"
   ]
  },
  {
   "cell_type": "code",
   "execution_count": 17,
   "id": "af1de0b8",
   "metadata": {},
   "outputs": [
    {
     "name": "stdout",
     "output_type": "stream",
     "text": [
      "(44, 55)\n"
     ]
    }
   ],
   "source": [
    "t1 = (11,22,33,44,55,66)\n",
    "t1 = t1[3:-1]\n",
    "print(t1)"
   ]
  },
  {
   "cell_type": "markdown",
   "id": "623a1953",
   "metadata": {},
   "source": [
    "### Modify the first item (22) of a list inside a following tuple to 222"
   ]
  },
  {
   "cell_type": "code",
   "execution_count": 18,
   "id": "9b397b3c",
   "metadata": {},
   "outputs": [
    {
     "name": "stdout",
     "output_type": "stream",
     "text": [
      "(11, [222, 33], 44, 55)\n"
     ]
    }
   ],
   "source": [
    "t = (11,[22,33],44,55)\n",
    "t[1][0] = 222\n",
    "print(t)"
   ]
  },
  {
   "cell_type": "markdown",
   "id": "54adcedf",
   "metadata": {},
   "source": [
    "### Counts the number of occurences of item 50 from a tuple"
   ]
  },
  {
   "cell_type": "code",
   "execution_count": 20,
   "id": "68952efa",
   "metadata": {},
   "outputs": [
    {
     "name": "stdout",
     "output_type": "stream",
     "text": [
      "3\n"
     ]
    }
   ],
   "source": [
    "t = (50,10,60,70,50,40,50)\n",
    "print(t.count(50))"
   ]
  },
  {
   "cell_type": "markdown",
   "id": "164346eb",
   "metadata": {},
   "source": [
    "### Assign the first element of the tuple to t1 on line2"
   ]
  },
  {
   "cell_type": "code",
   "execution_count": 27,
   "id": "79490d83",
   "metadata": {},
   "outputs": [
    {
     "ename": "TypeError",
     "evalue": "'tuple' object does not support item assignment",
     "output_type": "error",
     "traceback": [
      "\u001b[1;31m---------------------------------------------------------------------------\u001b[0m",
      "\u001b[1;31mTypeError\u001b[0m                                 Traceback (most recent call last)",
      "Input \u001b[1;32mIn [27]\u001b[0m, in \u001b[0;36m<cell line: 3>\u001b[1;34m()\u001b[0m\n\u001b[0;32m      1\u001b[0m t \u001b[38;5;241m=\u001b[39m (\u001b[38;5;241m11\u001b[39m,\u001b[38;5;241m100\u001b[39m,\u001b[38;5;241m99\u001b[39m,\u001b[38;5;241m1000\u001b[39m,\u001b[38;5;241m999\u001b[39m)\n\u001b[0;32m      2\u001b[0m t2 \u001b[38;5;241m=\u001b[39m (\u001b[38;5;241m10\u001b[39m)\n\u001b[1;32m----> 3\u001b[0m t[\u001b[38;5;241m1\u001b[39m]\u001b[38;5;241m=\u001b[39m\u001b[38;5;241m10\u001b[39m\n\u001b[0;32m      4\u001b[0m t[\u001b[38;5;241m1\u001b[39m]\u001b[38;5;241m=\u001b[39mt2\n",
      "\u001b[1;31mTypeError\u001b[0m: 'tuple' object does not support item assignment"
     ]
    }
   ],
   "source": [
    "t = (11,100,99,1000,999)\n",
    "t2 = (10)\n",
    "t[1]=10\n",
    "t[1]=t2"
   ]
  },
  {
   "cell_type": "markdown",
   "id": "2a6fe21d",
   "metadata": {},
   "source": [
    "### Whats the index of 2"
   ]
  },
  {
   "cell_type": "code",
   "execution_count": 32,
   "id": "beabbd19",
   "metadata": {},
   "outputs": [
    {
     "ename": "AttributeError",
     "evalue": "'tuple' object has no attribute 'find'",
     "output_type": "error",
     "traceback": [
      "\u001b[1;31m---------------------------------------------------------------------------\u001b[0m",
      "\u001b[1;31mAttributeError\u001b[0m                            Traceback (most recent call last)",
      "Input \u001b[1;32mIn [32]\u001b[0m, in \u001b[0;36m<cell line: 3>\u001b[1;34m()\u001b[0m\n\u001b[0;32m      1\u001b[0m t \u001b[38;5;241m=\u001b[39m (\u001b[38;5;241m55\u001b[39m,\u001b[38;5;241m77\u001b[39m,\u001b[38;5;241m54.6\u001b[39m,\u001b[38;5;241m76\u001b[39m,\u001b[38;5;241m101\u001b[39m,\u001b[38;5;241m1\u001b[39m,\u001b[38;5;241m2\u001b[39m,\u001b[38;5;241m8679\u001b[39m,\u001b[38;5;241m123\u001b[39m,\u001b[38;5;241m99\u001b[39m)\n\u001b[0;32m      2\u001b[0m t[\u001b[38;5;241m6\u001b[39m]\n\u001b[1;32m----> 3\u001b[0m \u001b[43mt\u001b[49m\u001b[38;5;241;43m.\u001b[39;49m\u001b[43mfind\u001b[49m(\u001b[38;5;241m2\u001b[39m)\n",
      "\u001b[1;31mAttributeError\u001b[0m: 'tuple' object has no attribute 'find'"
     ]
    }
   ],
   "source": [
    "t = (55,77,54.6,76,101,1,2,8679,123,99)\n",
    "t[6]\n",
    "t.find(2)"
   ]
  },
  {
   "cell_type": "markdown",
   "id": "236abcc5",
   "metadata": {},
   "source": [
    "### How many times 777 occur"
   ]
  },
  {
   "cell_type": "code",
   "execution_count": 33,
   "id": "195f232c",
   "metadata": {},
   "outputs": [
    {
     "data": {
      "text/plain": [
       "2"
      ]
     },
     "execution_count": 33,
     "metadata": {},
     "output_type": "execute_result"
    }
   ],
   "source": [
    "a =(55,6,777,54,6,76,7777,1,777,2,6)\n",
    "a.count(777)"
   ]
  },
  {
   "cell_type": "markdown",
   "id": "6064a3fe",
   "metadata": {},
   "source": [
    "### sum of all numbers in a tuple"
   ]
  },
  {
   "cell_type": "code",
   "execution_count": 34,
   "id": "4f30cc93",
   "metadata": {},
   "outputs": [
    {
     "name": "stdout",
     "output_type": "stream",
     "text": [
      "Enter a tuple(1,2,3)\n",
      "6\n"
     ]
    }
   ],
   "source": [
    "t = eval(input('Enter a tuple'))\n",
    "print(sum(t))"
   ]
  },
  {
   "cell_type": "markdown",
   "id": "8877a6d9",
   "metadata": {},
   "source": [
    "### What is the minimum value in the tuple"
   ]
  },
  {
   "cell_type": "code",
   "execution_count": 35,
   "id": "c4d91e4a",
   "metadata": {},
   "outputs": [
    {
     "name": "stdout",
     "output_type": "stream",
     "text": [
      "Enter a tuple(10,12,4,3,7,9,1)\n",
      "1\n"
     ]
    }
   ],
   "source": [
    "t = eval(input('Enter a tuple'))\n",
    "print(min(t))"
   ]
  },
  {
   "cell_type": "markdown",
   "id": "5c53bb2a",
   "metadata": {},
   "source": [
    "### create empty tuple"
   ]
  },
  {
   "cell_type": "code",
   "execution_count": 37,
   "id": "811d0979",
   "metadata": {},
   "outputs": [
    {
     "name": "stdout",
     "output_type": "stream",
     "text": [
      "() <class 'tuple'>\n",
      "() <class 'tuple'>\n"
     ]
    }
   ],
   "source": [
    "t1 = ()\n",
    "t2 = tuple()\n",
    "print(t1,type(t1))\n",
    "print(t2,type(t2))"
   ]
  },
  {
   "cell_type": "markdown",
   "id": "850ad68c",
   "metadata": {},
   "source": [
    "### write a code to convert the list l1 to tuple"
   ]
  },
  {
   "cell_type": "code",
   "execution_count": 40,
   "id": "0a040e29",
   "metadata": {},
   "outputs": [
    {
     "name": "stdout",
     "output_type": "stream",
     "text": [
      "Enter a list[1,2,3,4,5]\n",
      "[1, 2, 3, 4, 5]\n",
      "(1, 2, 3, 4, 5)\n"
     ]
    }
   ],
   "source": [
    "l1 = eval(input('Enter a list'))\n",
    "print(l1)\n",
    "print(tuple(l1))"
   ]
  },
  {
   "cell_type": "markdown",
   "id": "805e74d0",
   "metadata": {},
   "source": [
    "### write a code to create a tuple containing first five even numbers"
   ]
  },
  {
   "cell_type": "code",
   "execution_count": 48,
   "id": "b15a32d0",
   "metadata": {},
   "outputs": [
    {
     "name": "stdout",
     "output_type": "stream",
     "text": [
      "Enter a tuple:(2,4,6,8,10)\n",
      "(2, 4, 6, 8, 10)\n"
     ]
    }
   ],
   "source": [
    "t = eval(input('Enter a tuple:'))\n",
    "t1 = ()\n",
    "even = (2,4,6,8,10)\n",
    "if t == even:\n",
    "    t1 = tuple(t)\n",
    "print(t1)"
   ]
  },
  {
   "cell_type": "markdown",
   "id": "80b3b192",
   "metadata": {},
   "source": [
    "### To accept five fruit name from the user and store it in a tuple F1"
   ]
  },
  {
   "cell_type": "code",
   "execution_count": 4,
   "id": "6a2fd8cd",
   "metadata": {},
   "outputs": [
    {
     "name": "stdout",
     "output_type": "stream",
     "text": [
      "How many fruits do you have:5\n",
      "Enter a fruit name:mango\n",
      "Enter a fruit name:pear\n",
      "Enter a fruit name:apple\n",
      "Enter a fruit name:banana\n",
      "Enter a fruit name:orange\n",
      "('mango', 'pear', 'apple', 'banana', 'orange')\n"
     ]
    }
   ],
   "source": [
    "F1 = ()\n",
    "ls = []\n",
    "n = int(input('How many fruits do you have:'))\n",
    "for i in range(n):\n",
    "    f = input('Enter a fruit name:')\n",
    "    ls.append(f)\n",
    "F1 = tuple(ls)    \n",
    "print(F1)    "
   ]
  },
  {
   "cell_type": "markdown",
   "id": "039d97e4",
   "metadata": {},
   "source": [
    "### To accept numbers from the user and store it in a tuple"
   ]
  },
  {
   "cell_type": "code",
   "execution_count": 5,
   "id": "b129808f",
   "metadata": {},
   "outputs": [
    {
     "name": "stdout",
     "output_type": "stream",
     "text": [
      "How many numbers do you have:5\n",
      "Enter a number:1\n",
      "Enter a number:2\n",
      "Enter a number:3\n",
      "Enter a number:4\n",
      "Enter a number:5\n",
      "(1, 2, 3, 4, 5)\n"
     ]
    }
   ],
   "source": [
    "t = ()\n",
    "n = int(input('How many numbers do you have:'))\n",
    "for i in range(n):\n",
    "    a = int(input('Enter a number:'))\n",
    "    t += (a,)\n",
    "print(t)    "
   ]
  },
  {
   "cell_type": "code",
   "execution_count": 11,
   "id": "0f3d5bfb",
   "metadata": {},
   "outputs": [
    {
     "name": "stdout",
     "output_type": "stream",
     "text": [
      "12\n",
      "('a', 'b')\n",
      "b\n",
      "(('a', 'b'), 'Anvi', 'Hockey', 45, 3, 12)\n",
      "Anvi\n"
     ]
    }
   ],
   "source": [
    "t = (12,3,45,'Hockey','Anvi',('a','b'))\n",
    "print(t[0])\n",
    "print(t[-1])\n",
    "print(t[-1][1])\n",
    "print(t[::-1])\n",
    "print(t[-2])"
   ]
  },
  {
   "cell_type": "markdown",
   "id": "0732408a",
   "metadata": {},
   "source": [
    "### To accept three numbers from the user and insert it at the end of given tuple"
   ]
  },
  {
   "cell_type": "code",
   "execution_count": 12,
   "id": "d1c8766c",
   "metadata": {},
   "outputs": [
    {
     "name": "stdout",
     "output_type": "stream",
     "text": [
      "(23, 32, 4, 5, 2, 12, 23)\n",
      "Enter a 3 here3\n",
      "Enter a number:1\n",
      "Enter a number:2\n",
      "Enter a number:3\n",
      "(23, 32, 4, 5, 2, 12, 23, 1, 2, 3)\n"
     ]
    }
   ],
   "source": [
    "t = (23,32,4,5,2,12,23)\n",
    "t1 = ()\n",
    "print(t)\n",
    "n = int(input('Enter a 3 here'))\n",
    "for i in range(n):\n",
    "    a = int(input('Enter a number:'))\n",
    "    t += (a,)\n",
    "print(t)"
   ]
  },
  {
   "cell_type": "markdown",
   "id": "8c91cc16",
   "metadata": {},
   "source": [
    "### print frequency of a number accepted from the user in given tuple"
   ]
  },
  {
   "cell_type": "code",
   "execution_count": 14,
   "id": "9c1dfcdc",
   "metadata": {},
   "outputs": [
    {
     "name": "stdout",
     "output_type": "stream",
     "text": [
      "Enter a element:12\n",
      "12 occurence in a given tuple is 2 times\n"
     ]
    }
   ],
   "source": [
    "t = (12,17,18,25,19,12,18,5)\n",
    "ele = int(input('Enter a element:'))\n",
    "count = 0\n",
    "for i in t:\n",
    "    if i == ele:\n",
    "        count+=1\n",
    "print(ele,'occurence in a given tuple is',count,'times')"
   ]
  },
  {
   "cell_type": "code",
   "execution_count": 15,
   "id": "f71e510f",
   "metadata": {},
   "outputs": [
    {
     "name": "stdout",
     "output_type": "stream",
     "text": [
      "Enter a tuple:(1,2,3,3,4,4,2,4,1,5)\n",
      "Enter a element:4\n",
      "4 occurence in a tuple is 3 times\n"
     ]
    }
   ],
   "source": [
    "t = eval(input('Enter a tuple:'))\n",
    "ele = int(input('Enter a element:'))\n",
    "count = 0\n",
    "for i in t:\n",
    "    if i == ele:\n",
    "        count+=1\n",
    "print(ele,'occurence in a tuple is',count,'times')       "
   ]
  },
  {
   "cell_type": "markdown",
   "id": "1057e2f7",
   "metadata": {},
   "source": [
    "### To concatenate all the characters of given tuple"
   ]
  },
  {
   "cell_type": "code",
   "execution_count": 17,
   "id": "45348a3b",
   "metadata": {},
   "outputs": [
    {
     "name": "stdout",
     "output_type": "stream",
     "text": [
      "['B', 'O', 'O', 'K']\n",
      "BOOK\n",
      "('B', 'O', 'O', 'K')\n"
     ]
    }
   ],
   "source": [
    "t1 = ('B','O','O','K')\n",
    "l1 = list(t1)\n",
    "print(l1)\n",
    "t2 = ''.join(l1)\n",
    "print(t2)\n",
    "print(tuple(t2))"
   ]
  },
  {
   "cell_type": "code",
   "execution_count": 18,
   "id": "06a7fbbf",
   "metadata": {},
   "outputs": [
    {
     "name": "stdout",
     "output_type": "stream",
     "text": [
      "BOOK\n"
     ]
    }
   ],
   "source": [
    "t1 = ('B','O','O','K')\n",
    "t2 = ''.join(t1)\n",
    "print(t2)"
   ]
  },
  {
   "cell_type": "markdown",
   "id": "b19af740",
   "metadata": {},
   "source": []
  }
 ],
 "metadata": {
  "kernelspec": {
   "display_name": "Python 3 (ipykernel)",
   "language": "python",
   "name": "python3"
  },
  "language_info": {
   "codemirror_mode": {
    "name": "ipython",
    "version": 3
   },
   "file_extension": ".py",
   "mimetype": "text/x-python",
   "name": "python",
   "nbconvert_exporter": "python",
   "pygments_lexer": "ipython3",
   "version": "3.9.12"
  }
 },
 "nbformat": 4,
 "nbformat_minor": 5
}
